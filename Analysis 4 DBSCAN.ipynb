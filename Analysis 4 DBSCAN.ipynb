{
 "cells": [
  {
   "cell_type": "code",
   "execution_count": null,
   "metadata": {},
   "outputs": [],
   "source": []
  },
  {
   "cell_type": "code",
   "execution_count": null,
   "metadata": {},
   "outputs": [],
   "source": []
  },
  {
   "cell_type": "code",
   "execution_count": null,
   "metadata": {},
   "outputs": [],
   "source": []
  },
  {
   "cell_type": "code",
   "execution_count": null,
   "metadata": {},
   "outputs": [],
   "source": []
  },
  {
   "cell_type": "code",
   "execution_count": null,
   "metadata": {},
   "outputs": [],
   "source": []
  },
  {
   "cell_type": "code",
   "execution_count": null,
   "metadata": {},
   "outputs": [],
   "source": [
    "# DBSCAN start\n",
    "\n",
    "from sklearn.neighbors import NearestNeighbors\n",
    "import matplotlib.pyplot as plt\n",
    "import numpy as np\n",
    "\n",
    "# Assuming 'matrix_cities' is your feature matrix\n",
    "X = matrix_cities\n",
    "\n",
    "# Use NearestNeighbors to find the distance to the nearest n points\n",
    "n_neighbors = 5  # This corresponds to min_samples in DBSCAN\n",
    "nearest_neighbors = NearestNeighbors(n_neighbors=n_neighbors)\n",
    "nearest_neighbors.fit(X)\n",
    "distances, indices = nearest_neighbors.kneighbors(X)\n",
    "\n",
    "# Sort the distances\n",
    "sorted_distances = np.sort(distances[:, n_neighbors-1], axis=0)\n",
    "\n",
    "# Plot the distances to the nearest n-th neighbor (min_samples-1)\n",
    "plt.figure(figsize=(12,8))\n",
    "plt.plot(sorted_distances)\n",
    "plt.xticks(range(0, 110, 10))\n",
    "plt.xlabel(\"Points sorted by distance to the n-th nearest neighbor\")\n",
    "plt.ylabel(f\"{n_neighbors-1}-th nearest neighbor distance\")\n",
    "plt.title(\"Finding optimal eps using nearest neighbors\")\n",
    "plt.show()"
   ]
  },
  {
   "cell_type": "markdown",
   "metadata": {},
   "source": [
    "The \"elbow\" seems to be around x=88 but it results in an estimation of just 1 cluster... trying lower values"
   ]
  },
  {
   "cell_type": "code",
   "execution_count": null,
   "metadata": {},
   "outputs": [],
   "source": [
    "from sklearn.cluster import DBSCAN\n",
    "\n",
    "elbow_index = 55\n",
    "eps_value = sorted_distances[elbow_index] # determined from the plot\n",
    "print(f'eps value is: {eps_value}')\n",
    "min_samples_value = 5\n",
    "\n",
    "dbscan = DBSCAN(eps=eps_value, min_samples=min_samples_value).fit(X)\n",
    "labels = dbscan.labels_\n",
    "\n",
    "# num clusters in labels, ignore noise if present\n",
    "n_clusters_ = len(set(labels)) - (1 if -1 in labels else 0)\n",
    "n_noise_ = list(labels).count(-1)\n",
    "\n",
    "print(f'Estimated number of clusters: {n_clusters_}')\n",
    "print(f'Estimated number of noise points: {n_noise_}')"
   ]
  },
  {
   "cell_type": "markdown",
   "metadata": {},
   "source": [
    "1. Choose Parameters eps and min_samples:\n",
    "   * eps: The maximum distance between two samples for them to be considered in the same neighborhood.\n",
    "   * min_samples: The number of samples in a neighborhood for a point to be considered a core point.\n",
    "\n",
    "DBSCAN labels each point with a cluster label or -1 for noise/outliers.\n",
    "\n",
    "Comparing to k-means and Hierarchical:\n",
    "* Cluster Quality: Evaluate using silhouette scores, noting that DBSCAN may produce a \"noise\" category (-1 label) for outliers.\n",
    "* Robustness to Outliers: DBSCAN's ability to identify and exclude outliers may lead to more robust clustering than k-means or hierarchical clustering, especially if outliers distorted the k-means results.\n",
    "* Cluster Interpretation: Similarly, analyze the resulting clusters in terms of continents, KCC's relative abundance, and regression correlations, as with hierarchical clustering."
   ]
  },
  {
   "cell_type": "code",
   "execution_count": null,
   "metadata": {},
   "outputs": [],
   "source": []
  },
  {
   "cell_type": "code",
   "execution_count": null,
   "metadata": {},
   "outputs": [],
   "source": []
  }
 ],
 "metadata": {
  "language_info": {
   "name": "python"
  }
 },
 "nbformat": 4,
 "nbformat_minor": 2
}
